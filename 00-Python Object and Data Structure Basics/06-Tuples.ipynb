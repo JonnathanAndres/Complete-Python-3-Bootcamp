{
  "cells": [
    {
      "cell_type": "markdown",
      "metadata": {
        "id": "view-in-github",
        "colab_type": "text"
      },
      "source": [
        "<a href=\"https://colab.research.google.com/github/JonnathanAndres/Complete-Python-3-Bootcamp/blob/master/00-Python%20Object%20and%20Data%20Structure%20Basics/06-Tuples.ipynb\" target=\"_parent\"><img src=\"https://colab.research.google.com/assets/colab-badge.svg\" alt=\"Open In Colab\"/></a>"
      ]
    },
    {
      "cell_type": "markdown",
      "metadata": {
        "id": "DzZ8za6V2smE"
      },
      "source": [
        "___\n",
        "\n",
        "<a href='https://www.udemy.com/user/joseportilla/'><img src='https://github.com/JonnathanAndres/Complete-Python-3-Bootcamp/blob/master/Pierian_Data_Logo.png?raw=1'/></a>\n",
        "___\n",
        "<center><em>Content Copyright by Pierian Data</em></center>"
      ]
    },
    {
      "cell_type": "markdown",
      "metadata": {
        "id": "btiM6UU22smK"
      },
      "source": [
        "# Tuples\n",
        "\n",
        "In Python tuples are very similar to lists, however, unlike lists they are *immutable* meaning they can not be changed. You would use tuples to present things that shouldn't be changed, such as days of the week, or dates on a calendar.\n",
        "\n",
        "In this section, we will get a brief overview of the following:\n",
        "\n",
        "    1.) Constructing Tuples\n",
        "    2.) Basic Tuple Methods\n",
        "    3.) Immutability\n",
        "    4.) When to Use Tuples\n",
        "\n",
        "You'll have an intuition of how to use tuples based on what you've learned about lists. We can treat them very similarly with the major distinction being that tuples are immutable.\n",
        "\n",
        "## Constructing Tuples\n",
        "\n",
        "The construction of a tuples use () with elements separated by commas. For example:"
      ]
    },
    {
      "cell_type": "code",
      "execution_count": null,
      "metadata": {
        "collapsed": true,
        "id": "oFZG0Mvm2smO"
      },
      "outputs": [],
      "source": [
        "# Create a tuple\n",
        "t = (1,2,3)"
      ]
    },
    {
      "cell_type": "code",
      "execution_count": null,
      "metadata": {
        "id": "eJ6-NOzr2smR",
        "outputId": "cc5aa075-735b-45cc-b679-8921d8d3f74c"
      },
      "outputs": [
        {
          "data": {
            "text/plain": [
              "3"
            ]
          },
          "execution_count": 2,
          "metadata": {},
          "output_type": "execute_result"
        }
      ],
      "source": [
        "# Check len just like a list\n",
        "len(t)"
      ]
    },
    {
      "cell_type": "code",
      "execution_count": null,
      "metadata": {
        "id": "6C-QP4Bv2smT",
        "outputId": "1b5ddaff-65c1-4090-aae0-a71c21bd7371"
      },
      "outputs": [
        {
          "data": {
            "text/plain": [
              "('one', 2)"
            ]
          },
          "execution_count": 3,
          "metadata": {},
          "output_type": "execute_result"
        }
      ],
      "source": [
        "# Can also mix object types\n",
        "t = ('one',2)\n",
        "\n",
        "# Show\n",
        "t"
      ]
    },
    {
      "cell_type": "code",
      "execution_count": null,
      "metadata": {
        "id": "4T1PZjwu2smV",
        "outputId": "91008e29-8c8f-4016-f463-781fa9acf461"
      },
      "outputs": [
        {
          "data": {
            "text/plain": [
              "'one'"
            ]
          },
          "execution_count": 4,
          "metadata": {},
          "output_type": "execute_result"
        }
      ],
      "source": [
        "# Use indexing just like we did in lists\n",
        "t[0]"
      ]
    },
    {
      "cell_type": "code",
      "execution_count": null,
      "metadata": {
        "id": "xr5O8lhw2smZ",
        "outputId": "c28b4411-03f5-42c6-945b-225fbe506124"
      },
      "outputs": [
        {
          "data": {
            "text/plain": [
              "2"
            ]
          },
          "execution_count": 5,
          "metadata": {},
          "output_type": "execute_result"
        }
      ],
      "source": [
        "# Slicing just like a list\n",
        "t[-1]"
      ]
    },
    {
      "cell_type": "markdown",
      "metadata": {
        "id": "3cRmiDLf2sme"
      },
      "source": [
        "## Basic Tuple Methods\n",
        "\n",
        "Tuples have built-in methods, but not as many as lists do. Let's look at two of them:"
      ]
    },
    {
      "cell_type": "code",
      "execution_count": null,
      "metadata": {
        "id": "Qe3Ue2qI2smk",
        "outputId": "89eb0ffb-2759-43c6-e4c8-020c185614e7"
      },
      "outputs": [
        {
          "data": {
            "text/plain": [
              "0"
            ]
          },
          "execution_count": 6,
          "metadata": {},
          "output_type": "execute_result"
        }
      ],
      "source": [
        "# Use .index to enter a value and return the index\n",
        "t.index('one')"
      ]
    },
    {
      "cell_type": "code",
      "execution_count": null,
      "metadata": {
        "id": "a9t18MPf2smq",
        "outputId": "376c457a-5d78-4a26-85bb-b8b253aa247a"
      },
      "outputs": [
        {
          "data": {
            "text/plain": [
              "1"
            ]
          },
          "execution_count": 7,
          "metadata": {},
          "output_type": "execute_result"
        }
      ],
      "source": [
        "# Use .count to count the number of times a value appears\n",
        "t.count('one')"
      ]
    },
    {
      "cell_type": "markdown",
      "metadata": {
        "id": "obSZcOlp2smt"
      },
      "source": [
        "## Immutability\n",
        "\n",
        "It can't be stressed enough that tuples are immutable. To drive that point home:"
      ]
    },
    {
      "cell_type": "code",
      "execution_count": null,
      "metadata": {
        "id": "_LieUgEM2smw",
        "outputId": "6fd40040-f359-491a-a193-060634760c05"
      },
      "outputs": [
        {
          "ename": "TypeError",
          "evalue": "'tuple' object does not support item assignment",
          "output_type": "error",
          "traceback": [
            "\u001b[1;31m---------------------------------------------------------------------------\u001b[0m",
            "\u001b[1;31mTypeError\u001b[0m                                 Traceback (most recent call last)",
            "\u001b[1;32m<ipython-input-8-1257c0aa9edd>\u001b[0m in \u001b[0;36m<module>\u001b[1;34m()\u001b[0m\n\u001b[1;32m----> 1\u001b[1;33m \u001b[0mt\u001b[0m\u001b[1;33m[\u001b[0m\u001b[1;36m0\u001b[0m\u001b[1;33m]\u001b[0m\u001b[1;33m=\u001b[0m \u001b[1;34m'change'\u001b[0m\u001b[1;33m\u001b[0m\u001b[0m\n\u001b[0m",
            "\u001b[1;31mTypeError\u001b[0m: 'tuple' object does not support item assignment"
          ]
        }
      ],
      "source": [
        "t[0]= 'change'"
      ]
    },
    {
      "cell_type": "markdown",
      "metadata": {
        "id": "kvRBZUCV2smx"
      },
      "source": [
        "Because of this immutability, tuples can't grow. Once a tuple is made we can not add to it."
      ]
    },
    {
      "cell_type": "code",
      "execution_count": null,
      "metadata": {
        "id": "COiocpyN2smy",
        "outputId": "b08b391a-1db9-4e0e-b044-8f4f888181e1"
      },
      "outputs": [
        {
          "ename": "AttributeError",
          "evalue": "'tuple' object has no attribute 'append'",
          "output_type": "error",
          "traceback": [
            "\u001b[1;31m---------------------------------------------------------------------------\u001b[0m",
            "\u001b[1;31mAttributeError\u001b[0m                            Traceback (most recent call last)",
            "\u001b[1;32m<ipython-input-9-b75f5b09ac19>\u001b[0m in \u001b[0;36m<module>\u001b[1;34m()\u001b[0m\n\u001b[1;32m----> 1\u001b[1;33m \u001b[0mt\u001b[0m\u001b[1;33m.\u001b[0m\u001b[0mappend\u001b[0m\u001b[1;33m(\u001b[0m\u001b[1;34m'nope'\u001b[0m\u001b[1;33m)\u001b[0m\u001b[1;33m\u001b[0m\u001b[0m\n\u001b[0m",
            "\u001b[1;31mAttributeError\u001b[0m: 'tuple' object has no attribute 'append'"
          ]
        }
      ],
      "source": [
        "t.append('nope')"
      ]
    },
    {
      "cell_type": "markdown",
      "metadata": {
        "id": "DZpQRARp2sm0"
      },
      "source": [
        "## When to use Tuples\n",
        "\n",
        "You may be wondering, \"Why bother using tuples when they have fewer available methods?\" To be honest, tuples are not used as often as lists in programming, but are used when immutability is necessary. If in your program you are passing around an object and need to make sure it does not get changed, then a tuple becomes your solution. It provides a convenient source of data integrity.\n",
        "\n",
        "You should now be able to create and use tuples in your programming as well as have an understanding of their immutability.\n",
        "\n",
        "Up next Files!"
      ]
    },
    {
      "cell_type": "code",
      "source": [
        "def mifuncion(num1, num2):\n",
        "  return num1 + num2\n",
        "mifuncion(2,3)"
      ],
      "metadata": {
        "colab": {
          "base_uri": "https://localhost:8080/"
        },
        "id": "Pxjq9HSu2xWG",
        "outputId": "625eab2a-862c-42fa-e353-c3987eb676de"
      },
      "execution_count": 3,
      "outputs": [
        {
          "output_type": "execute_result",
          "data": {
            "text/plain": [
              "5"
            ]
          },
          "metadata": {},
          "execution_count": 3
        }
      ]
    },
    {
      "cell_type": "code",
      "source": [
        "def is_even(num):\n",
        "    return num%2==0\n",
        "print(is_even(2))"
      ],
      "metadata": {
        "colab": {
          "base_uri": "https://localhost:8080/"
        },
        "id": "UH7T9MA6DV1K",
        "outputId": "68450099-6615-4a63-ba97-2bfdbdca248a"
      },
      "execution_count": 7,
      "outputs": [
        {
          "output_type": "stream",
          "name": "stdout",
          "text": [
            "True\n"
          ]
        }
      ]
    },
    {
      "cell_type": "code",
      "source": [
        "def myfunc(*args):\n",
        "    return sum(args)\n",
        "myfunc(1,3,5,2)"
      ],
      "metadata": {
        "colab": {
          "base_uri": "https://localhost:8080/"
        },
        "id": "dQosyko9FzNX",
        "outputId": "d536bdb9-99e6-4a85-9176-667af57fa834"
      },
      "execution_count": 8,
      "outputs": [
        {
          "output_type": "execute_result",
          "data": {
            "text/plain": [
              "11"
            ]
          },
          "metadata": {},
          "execution_count": 8
        }
      ]
    },
    {
      "cell_type": "code",
      "source": [
        "def myfunc(*args):\n",
        "    return [n for n in args if n%2==0]\n",
        "print(myfunc(3,6,8))"
      ],
      "metadata": {
        "colab": {
          "base_uri": "https://localhost:8080/"
        },
        "id": "4lqllKC_GGBQ",
        "outputId": "07d55b07-132e-45d0-8441-e86f16e5eced"
      },
      "execution_count": 10,
      "outputs": [
        {
          "output_type": "stream",
          "name": "stdout",
          "text": [
            "[6, 8]\n"
          ]
        }
      ]
    },
    {
      "cell_type": "markdown",
      "source": [
        "Functions #10: skyline\n",
        "Define a function called myfunc that takes in a string, and returns a matching string where every even letter is uppercase, and every odd letter is lowercase. Assume that the incoming string only contains letters, and don't worry about numbers, spaces or punctuation. The output string can start with either an uppercase or lowercase letter, so long as letters alternate throughout the string.\n",
        "\n",
        "Remember, don't run the function, simply provide the definition.\n",
        "\n",
        "To give an idea what the function would look like when tested:\n",
        "\n",
        "myfunc('Anthropomorphism')\n",
        "# Output: 'aNtHrOpOmOrPhIsM'\n",
        "Added note: this exercise requires that the function return a string. Print statements will not work here."
      ],
      "metadata": {
        "id": "q10c1X0BJW1o"
      }
    },
    {
      "cell_type": "code",
      "source": [
        "def myfunc(text):\n",
        "    matching_string = []\n",
        "    for ind, letter in enumerate(text):\n",
        "        if (ind+1)%2 == 0:\n",
        "            matching_string.append(letter.upper())\n",
        "        else:\n",
        "            matching_string.append(letter.lower())\n",
        "    return matching_string\n",
        "#print(myfunc('Anthropomorphism'))\n",
        "print(myfunc('fer'))"
      ],
      "metadata": {
        "colab": {
          "base_uri": "https://localhost:8080/"
        },
        "id": "MtOgJA8NHRCo",
        "outputId": "51985322-9d9a-4e46-ea6a-55355639372a"
      },
      "execution_count": 15,
      "outputs": [
        {
          "output_type": "stream",
          "name": "stdout",
          "text": [
            "['f', 'E', 'r']\n"
          ]
        }
      ]
    },
    {
      "cell_type": "code",
      "source": [
        "def myfunc(text):\n",
        "    matching_string = ''\n",
        "    for ind, letter in enumerate(text):\n",
        "        if (ind+1)%2 == 0:\n",
        "            matching_string += (letter.upper())\n",
        "        else:\n",
        "            matching_string += (letter.lower())\n",
        "    return matching_string\n",
        "print(myfunc('Anthropomorphism'))\n",
        "#print(myfunc('fer'))"
      ],
      "metadata": {
        "id": "uZoytHT0Jxq2",
        "outputId": "d308e390-a1c3-4c4b-83d0-fb016cd96b17",
        "colab": {
          "base_uri": "https://localhost:8080/"
        }
      },
      "execution_count": 18,
      "outputs": [
        {
          "output_type": "stream",
          "name": "stdout",
          "text": [
            "aNtHrOpOmOrPhIsM\n"
          ]
        }
      ]
    }
  ],
  "metadata": {
    "kernelspec": {
      "display_name": "Python 3",
      "language": "python",
      "name": "python3"
    },
    "language_info": {
      "codemirror_mode": {
        "name": "ipython",
        "version": 3
      },
      "file_extension": ".py",
      "mimetype": "text/x-python",
      "name": "python",
      "nbconvert_exporter": "python",
      "pygments_lexer": "ipython3",
      "version": "3.6.6"
    },
    "colab": {
      "provenance": [],
      "include_colab_link": true
    }
  },
  "nbformat": 4,
  "nbformat_minor": 0
}