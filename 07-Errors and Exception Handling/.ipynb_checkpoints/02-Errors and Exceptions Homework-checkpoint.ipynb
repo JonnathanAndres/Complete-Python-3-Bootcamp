{
  "cells": [
    {
      "cell_type": "markdown",
      "metadata": {
        "id": "view-in-github",
        "colab_type": "text"
      },
      "source": [
        "<a href=\"https://colab.research.google.com/github/JonnathanAndres/Complete-Python-3-Bootcamp/blob/master/07-Errors%20and%20Exception%20Handling/.ipynb_checkpoints/02-Errors%20and%20Exceptions%20Homework-checkpoint.ipynb\" target=\"_parent\"><img src=\"https://colab.research.google.com/assets/colab-badge.svg\" alt=\"Open In Colab\"/></a>"
      ]
    },
    {
      "cell_type": "markdown",
      "metadata": {
        "id": "gXM57ZDMJxOb"
      },
      "source": [
        "___\n",
        "\n",
        "<a href='https://www.udemy.com/user/joseportilla/'><img src='https://github.com/JonnathanAndres/Complete-Python-3-Bootcamp/blob/master/07-Errors%20and%20Exception%20Handling/Pierian_Data_Logo.png?raw=1'/></a>\n",
        "___\n",
        "<center><em>Content Copyright by Pierian Data</em></center>"
      ]
    },
    {
      "cell_type": "markdown",
      "metadata": {
        "id": "3_aLIcejJxOc"
      },
      "source": [
        "# Errors and Exceptions Homework"
      ]
    },
    {
      "cell_type": "markdown",
      "metadata": {
        "id": "cXA_5EuVJxOd"
      },
      "source": [
        "### Problem 1\n",
        "Handle the exception thrown by the code below by using <code>try</code> and <code>except</code> blocks."
      ]
    },
    {
      "cell_type": "code",
      "execution_count": 1,
      "metadata": {
        "id": "Eu3Qew6eJxOd",
        "outputId": "740dc500-7002-4061-9185-7d9505939d44",
        "colab": {
          "base_uri": "https://localhost:8080/"
        }
      },
      "outputs": [
        {
          "output_type": "stream",
          "name": "stdout",
          "text": [
            "Error...\n",
            "Error...\n",
            "Error...\n"
          ]
        }
      ],
      "source": [
        "for i in ['a','b','c']:\n",
        "  try:\n",
        "    print(i**2)\n",
        "  except:\n",
        "    print(\"Error...\")"
      ]
    },
    {
      "cell_type": "markdown",
      "metadata": {
        "id": "pMnCdH-pJxOe"
      },
      "source": [
        "### Problem 2\n",
        "Handle the exception thrown by the code below by using <code>try</code> and <code>except</code> blocks. Then use a <code>finally</code> block to print 'All Done.'"
      ]
    },
    {
      "cell_type": "code",
      "execution_count": 2,
      "metadata": {
        "id": "Iyiq-slyJxOf",
        "outputId": "728f6c34-9eab-4135-d562-6c1b7de49cad",
        "colab": {
          "base_uri": "https://localhost:8080/"
        }
      },
      "outputs": [
        {
          "output_type": "stream",
          "name": "stdout",
          "text": [
            "All Done\n"
          ]
        }
      ],
      "source": [
        "x = 5\n",
        "y = 0\n",
        "try:\n",
        "  z = x/y\n",
        "except:\n",
        "  pass\n",
        "finally:\n",
        "  print('All Done')"
      ]
    },
    {
      "cell_type": "markdown",
      "metadata": {
        "id": "WuDPmKUQJxOg"
      },
      "source": [
        "### Problem 3\n",
        "Write a function that asks for an integer and prints the square of it. Use a <code>while</code> loop with a <code>try</code>, <code>except</code>, <code>else</code> block to account for incorrect inputs."
      ]
    },
    {
      "cell_type": "code",
      "execution_count": 5,
      "metadata": {
        "collapsed": true,
        "id": "Cxa0DK01JxOh"
      },
      "outputs": [],
      "source": [
        "def ask():\n",
        "  while True:\n",
        "    try:\n",
        "      int_value = int(input('Input an integer:'))\n",
        "    except:\n",
        "      print('An error ocurred! Please try again')\n",
        "    else:\n",
        "      print(f'Thank you, your number squared is: {int_value**2}')\n",
        "      break"
      ]
    },
    {
      "cell_type": "code",
      "execution_count": 6,
      "metadata": {
        "id": "JN0mrdkaJxOi",
        "outputId": "c5b8103d-24c4-474d-e945-2ef9765dc9c9",
        "colab": {
          "base_uri": "https://localhost:8080/"
        }
      },
      "outputs": [
        {
          "output_type": "stream",
          "name": "stdout",
          "text": [
            "Input an integer:m\n",
            "An error ocurred! Please try again\n",
            "Input an integer:2\n",
            "Thank you, your number squared is: 4\n"
          ]
        }
      ],
      "source": [
        "ask()"
      ]
    },
    {
      "cell_type": "markdown",
      "metadata": {
        "id": "7LS_HR0FJxOk"
      },
      "source": [
        "# Great Job!"
      ]
    }
  ],
  "metadata": {
    "kernelspec": {
      "display_name": "Python 3",
      "language": "python",
      "name": "python3"
    },
    "language_info": {
      "codemirror_mode": {
        "name": "ipython",
        "version": 3
      },
      "file_extension": ".py",
      "mimetype": "text/x-python",
      "name": "python",
      "nbconvert_exporter": "python",
      "pygments_lexer": "ipython3",
      "version": "3.6.6"
    },
    "colab": {
      "provenance": [],
      "include_colab_link": true
    }
  },
  "nbformat": 4,
  "nbformat_minor": 0
}